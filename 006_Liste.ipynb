{
  "nbformat": 4,
  "nbformat_minor": 0,
  "metadata": {
    "colab": {
      "provenance": [],
      "authorship_tag": "ABX9TyOOPFaWakggXB+VYERQ4V11",
      "include_colab_link": true
    },
    "kernelspec": {
      "name": "python3",
      "display_name": "Python 3"
    },
    "language_info": {
      "name": "python"
    }
  },
  "cells": [
    {
      "cell_type": "markdown",
      "metadata": {
        "id": "view-in-github",
        "colab_type": "text"
      },
      "source": [
        "<a href=\"https://colab.research.google.com/github/P-cyber-pixel38/python/blob/main/006_Liste.ipynb\" target=\"_parent\"><img src=\"https://colab.research.google.com/assets/colab-badge.svg\" alt=\"Open In Colab\"/></a>"
      ]
    },
    {
      "cell_type": "markdown",
      "source": [
        "Esercizio 1\n",
        "Creare una lista vuota assegnarla a una variabilee stamparla."
      ],
      "metadata": {
        "id": "1cMdaQ2PDzII"
      }
    },
    {
      "cell_type": "code",
      "execution_count": 15,
      "metadata": {
        "colab": {
          "base_uri": "https://localhost:8080/"
        },
        "id": "m8PwveYGDyg6",
        "outputId": "42275710-d56a-4801-d27f-9e933f7ec10f"
      },
      "outputs": [
        {
          "output_type": "stream",
          "name": "stdout",
          "text": [
            "[]\n"
          ]
        }
      ],
      "source": [
        "lista = []\n",
        "print(lista)"
      ]
    },
    {
      "cell_type": "markdown",
      "source": [
        "Esercizio 2\n",
        "Creare una lista di numeri interi da 1 a 5 e assegnarla a una variabile e stamparla."
      ],
      "metadata": {
        "id": "Ns1922L_EoVs"
      }
    },
    {
      "cell_type": "code",
      "source": [
        "lista = [1, 2, 3, 4,  5]\n",
        "print(lista)"
      ],
      "metadata": {
        "colab": {
          "base_uri": "https://localhost:8080/"
        },
        "id": "XpM8ynCTEpIl",
        "outputId": "5477f3db-2aec-4d6e-edc8-fbfa862317cf"
      },
      "execution_count": 16,
      "outputs": [
        {
          "output_type": "stream",
          "name": "stdout",
          "text": [
            "[1, 2, 3, 4, 5]\n"
          ]
        }
      ]
    },
    {
      "cell_type": "markdown",
      "source": [
        "Esercizio 3\n",
        "Accedere all'elemento con indice 2 della lista precedente."
      ],
      "metadata": {
        "id": "BF7p4kchFFVO"
      }
    },
    {
      "cell_type": "code",
      "source": [
        "print(lista[2])"
      ],
      "metadata": {
        "colab": {
          "base_uri": "https://localhost:8080/"
        },
        "id": "t98KIeTGFFtv",
        "outputId": "7c45112d-a333-48b9-867c-475d45c88164"
      },
      "execution_count": 17,
      "outputs": [
        {
          "output_type": "stream",
          "name": "stdout",
          "text": [
            "3\n"
          ]
        }
      ]
    },
    {
      "cell_type": "markdown",
      "source": [
        "Esercizio 4\n",
        "Aggiungere un nuovo elemento \"6\" alla lista precedente."
      ],
      "metadata": {
        "id": "lUogc48qFglO"
      }
    },
    {
      "cell_type": "code",
      "source": [
        "lista.append(6)\n",
        "print(lista)"
      ],
      "metadata": {
        "colab": {
          "base_uri": "https://localhost:8080/"
        },
        "id": "ULshafGwGBoh",
        "outputId": "9fe7478e-5cd3-4c11-b1a6-70fb8590bab5"
      },
      "execution_count": 18,
      "outputs": [
        {
          "output_type": "stream",
          "name": "stdout",
          "text": [
            "[1, 2, 3, 4, 5, 6]\n"
          ]
        }
      ]
    },
    {
      "cell_type": "markdown",
      "source": [
        "Esercizio 5\n",
        "Rimuovere l'elemento con indice 3 dalla lista precedente."
      ],
      "metadata": {
        "id": "NcCys8JKGIHr"
      }
    },
    {
      "cell_type": "code",
      "source": [
        "del lista[3]  #oppure lista.pop(3)\n",
        "print(lista)"
      ],
      "metadata": {
        "colab": {
          "base_uri": "https://localhost:8080/"
        },
        "id": "8Lt33JBiGRHM",
        "outputId": "93782ff3-2ae4-40d3-e1a8-79749b9dfa1b"
      },
      "execution_count": 23,
      "outputs": [
        {
          "output_type": "stream",
          "name": "stdout",
          "text": [
            "[1, 2, 3, 5, 6]\n"
          ]
        }
      ]
    },
    {
      "cell_type": "markdown",
      "source": [
        "Esercizio 6\n",
        "Creare una nuova lista che contenga solo i primi tre elementi della lista precedente."
      ],
      "metadata": {
        "id": "DWHjiJO5HqP9"
      }
    },
    {
      "cell_type": "code",
      "source": [
        "lista2 = lista[0:3]\n",
        "print(lista2)"
      ],
      "metadata": {
        "colab": {
          "base_uri": "https://localhost:8080/"
        },
        "id": "jDFkz4ApHuyZ",
        "outputId": "ea3d32da-cd68-40eb-9659-7585798ff757"
      },
      "execution_count": 26,
      "outputs": [
        {
          "output_type": "stream",
          "name": "stdout",
          "text": [
            "[1, 2, 3]\n"
          ]
        }
      ]
    },
    {
      "cell_type": "markdown",
      "source": [
        "Esercizio 7\n",
        "Creare una nuova lista che contenga gli elementi con indici dispari della lista precedente."
      ],
      "metadata": {
        "id": "070kNXt1ItnN"
      }
    },
    {
      "cell_type": "code",
      "source": [
        "lista =[1,2,3,4,5,6,7,8,9,10]\n",
        "if len(lista) % 2 == 0 :\n",
        "  lista2 = lista[1::2]\n",
        "else:\n",
        "  lista2 = lista[0::1]\n",
        "print(lista2)"
      ],
      "metadata": {
        "colab": {
          "base_uri": "https://localhost:8080/"
        },
        "id": "eBZMbFK4IwGf",
        "outputId": "5d18d71c-d994-48e3-80f3-53c2ccd437bb"
      },
      "execution_count": 39,
      "outputs": [
        {
          "output_type": "stream",
          "name": "stdout",
          "text": [
            "[2, 4, 6, 8, 10]\n"
          ]
        }
      ]
    },
    {
      "cell_type": "markdown",
      "source": [
        "Esercizio 8\n",
        "Ordinare la lista precedente in ordine decrescente."
      ],
      "metadata": {
        "id": "NZtUCGzqLPV5"
      }
    },
    {
      "cell_type": "code",
      "source": [
        "lista =[1,2,3,4,5,6,7,8,9,10]\n",
        "lista.sort(reverse=True)\n",
        "print(lista)"
      ],
      "metadata": {
        "colab": {
          "base_uri": "https://localhost:8080/"
        },
        "id": "ZJqQFRxMLTEF",
        "outputId": "1c4ef7a5-e716-4a78-b60b-0ab5e64ccdd3"
      },
      "execution_count": 45,
      "outputs": [
        {
          "output_type": "stream",
          "name": "stdout",
          "text": [
            "[10, 9, 8, 7, 6, 5, 4, 3, 2, 1]\n"
          ]
        }
      ]
    },
    {
      "cell_type": "markdown",
      "source": [
        "Esercizio 9\n",
        "Contare quante volte l'elemento \"2\" appare nella lista precedente."
      ],
      "metadata": {
        "id": "CwDG0offL3M9"
      }
    },
    {
      "cell_type": "code",
      "source": [
        "my_list = [3, 1, 4, 1, 5, 9, 2, 6, 5, 3, 5]\n",
        "#appare nella lista\n",
        "count_of_2 = my_list.count(2)\n",
        "print(count_of_2)"
      ],
      "metadata": {
        "colab": {
          "base_uri": "https://localhost:8080/"
        },
        "id": "1Q0Szz70L5AA",
        "outputId": "fd8a7c67-6d84-47ee-dea1-e8908d112f42"
      },
      "execution_count": 44,
      "outputs": [
        {
          "output_type": "stream",
          "name": "stdout",
          "text": [
            "1\n"
          ]
        }
      ]
    },
    {
      "cell_type": "markdown",
      "source": [
        "Altro modo..."
      ],
      "metadata": {
        "id": "4NQfLzyUMIoP"
      }
    },
    {
      "cell_type": "code",
      "source": [
        "print(f\"il numero 2 appare {lista.count(2)} volte\")"
      ],
      "metadata": {
        "id": "wa3mrsiyMH4C"
      },
      "execution_count": null,
      "outputs": []
    }
  ]
}