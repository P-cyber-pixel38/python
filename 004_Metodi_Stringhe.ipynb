{
  "nbformat": 4,
  "nbformat_minor": 0,
  "metadata": {
    "colab": {
      "provenance": [],
      "authorship_tag": "ABX9TyN6EQOeWXaIiDly90a0+5Js",
      "include_colab_link": true
    },
    "kernelspec": {
      "name": "python3",
      "display_name": "Python 3"
    },
    "language_info": {
      "name": "python"
    }
  },
  "cells": [
    {
      "cell_type": "markdown",
      "metadata": {
        "id": "view-in-github",
        "colab_type": "text"
      },
      "source": [
        "<a href=\"https://colab.research.google.com/github/P-cyber-pixel38/python/blob/main/004_Metodi_Stringhe.ipynb\" target=\"_parent\"><img src=\"https://colab.research.google.com/assets/colab-badge.svg\" alt=\"Open In Colab\"/></a>"
      ]
    },
    {
      "cell_type": "markdown",
      "source": [
        "Esercizio 1\n",
        "Assegnare una stringa \"ciao mondo\" ad una variabile \"stringa\" e utilizzare il metodo upper() per convertirla in maiuscolo in una nuova variabile."
      ],
      "metadata": {
        "id": "j9XefpRWqtEm"
      }
    },
    {
      "cell_type": "code",
      "execution_count": 2,
      "metadata": {
        "colab": {
          "base_uri": "https://localhost:8080/"
        },
        "id": "R6WZJu6YqlA2",
        "outputId": "b11230c0-9460-4229-f49a-c5e40e0117f6"
      },
      "outputs": [
        {
          "output_type": "stream",
          "name": "stdout",
          "text": [
            "CIAO MONDO\n"
          ]
        }
      ],
      "source": [
        "stringa = \"ciao mondo\"\n",
        "print(stringa.upper())"
      ]
    },
    {
      "cell_type": "markdown",
      "source": [
        "Esercizio 2\n",
        "Assegnare una stringa \"Benvenuti a Roma\" ad una variabile \"stringa\" e utilizzare il metodo lower() per convertirla in minuscolo in una nuova variabile."
      ],
      "metadata": {
        "id": "jZPLICuxq5lL"
      }
    },
    {
      "cell_type": "code",
      "source": [
        "stringa = \"CIAO MONDO\"\n",
        "print(stringa.lower())"
      ],
      "metadata": {
        "colab": {
          "base_uri": "https://localhost:8080/"
        },
        "id": "kzkMs9dirRoi",
        "outputId": "4b626355-7feb-4b75-da1b-84e26977e53e"
      },
      "execution_count": 4,
      "outputs": [
        {
          "output_type": "stream",
          "name": "stdout",
          "text": [
            "ciao mondo\n"
          ]
        }
      ]
    },
    {
      "cell_type": "markdown",
      "source": [
        "Esercizio 3\n",
        "Assegnare una stringa \"Il meglio deve ancora venire\" ad una variabile \"stringa\" e utilizzare il metodo split() per dividere la stringa in una lista di parole."
      ],
      "metadata": {
        "id": "kYSbtsAMvKaR"
      }
    },
    {
      "cell_type": "code",
      "source": [
        "stringa = \"Il meglio, deve ancora venire\"\n",
        "print(stringa.split())\n",
        "#se nelle parentesi della funzione split metti un SEPRATORE, dicendogli dove deve andare a dividere la frase"
      ],
      "metadata": {
        "colab": {
          "base_uri": "https://localhost:8080/"
        },
        "id": "QUqlBLQTrcgH",
        "outputId": "b609a250-a8f8-4a55-809b-5ffa6a24bc32"
      },
      "execution_count": 10,
      "outputs": [
        {
          "output_type": "stream",
          "name": "stdout",
          "text": [
            "['Il', 'meglio,', 'deve', 'ancora', 'venire']\n"
          ]
        }
      ]
    },
    {
      "cell_type": "markdown",
      "source": [
        "Esercizio 4\n",
        "Assegnare una stringa \"Hello World\" ad una variabile \"stringa\" e utilizzare il metodo replace() per sostituire \"World\" con \"Python\"."
      ],
      "metadata": {
        "id": "n5dNE_yJwr_v"
      }
    },
    {
      "cell_type": "code",
      "source": [
        "stringa = \"Hello World\"\n",
        "print(stringa.replace(\"World\", \"Python\"))"
      ],
      "metadata": {
        "colab": {
          "base_uri": "https://localhost:8080/"
        },
        "id": "MvduYjQywuuz",
        "outputId": "ae6b52a7-50b5-436a-db54-75739d1fda08"
      },
      "execution_count": 12,
      "outputs": [
        {
          "output_type": "stream",
          "name": "stdout",
          "text": [
            "Hello Python\n"
          ]
        }
      ]
    },
    {
      "cell_type": "markdown",
      "source": [
        "Esercizio 5\n",
        "Assegnare una stringa \" Ciao \" ad una variabile \"stringa\" e utilizzare il metodo strip() per rimuovere gli spazi vuoti all'inizio e alla fine della stringa.."
      ],
      "metadata": {
        "id": "obDA_EC82-Lo"
      }
    },
    {
      "cell_type": "code",
      "source": [
        "stringa = \" Ciao \"\n",
        "print(stringa.strip())"
      ],
      "metadata": {
        "colab": {
          "base_uri": "https://localhost:8080/"
        },
        "id": "jRvBdVM12_4O",
        "outputId": "bfd746b4-a472-4c07-897c-7f4734737ce2"
      },
      "execution_count": 25,
      "outputs": [
        {
          "output_type": "stream",
          "name": "stdout",
          "text": [
            "Ciao\n"
          ]
        }
      ]
    },
    {
      "cell_type": "markdown",
      "source": [
        "Esercizio 6 Assegnare una stringa \"abcdefg\" ad una variabile \"stringa\" ed estrarre i primi tre caratteri."
      ],
      "metadata": {
        "id": "5QD5TRnyxI_4"
      }
    },
    {
      "cell_type": "code",
      "source": [
        "stringa = \"abcdefg\"\n",
        "stringa_v2 = stringa [0:3]\n",
        "#ricorda: gli indici partono QUASI sempre da zero (funziona anche [:3])\n",
        "#funzione slice()\n",
        "print(stringa_v2)"
      ],
      "metadata": {
        "colab": {
          "base_uri": "https://localhost:8080/"
        },
        "id": "gxv0zSASxTh-",
        "outputId": "70ba254a-c939-439c-eb6a-95786c1e4265"
      },
      "execution_count": 13,
      "outputs": [
        {
          "output_type": "stream",
          "name": "stdout",
          "text": [
            "abc\n"
          ]
        }
      ]
    },
    {
      "cell_type": "markdown",
      "source": [
        "Esercizio 7\n",
        "Assegnare una stringa \"Python\" ad una variabile \"stringa\" e utilizzare il metodo startswith() per verificare se la stringa inizia con \"Py\"."
      ],
      "metadata": {
        "id": "isKiEItmzh77"
      }
    },
    {
      "cell_type": "code",
      "source": [
        "stringa = \"Python\"\n",
        "print(stringa.startswith(\"Py\"))"
      ],
      "metadata": {
        "colab": {
          "base_uri": "https://localhost:8080/"
        },
        "id": "QDhOslUhzkdm",
        "outputId": "0a25a69a-7e28-4196-bbab-48c80983de0c"
      },
      "execution_count": 14,
      "outputs": [
        {
          "output_type": "stream",
          "name": "stdout",
          "text": [
            "True\n"
          ]
        }
      ]
    },
    {
      "cell_type": "markdown",
      "source": [
        "Altro modo..."
      ],
      "metadata": {
        "id": "4ziqPE7f0ecp"
      }
    },
    {
      "cell_type": "code",
      "source": [
        "str11=\"python\"\n",
        "booleano = str11.startswith(\"PY\".lower())\n",
        "print(booleano)"
      ],
      "metadata": {
        "colab": {
          "base_uri": "https://localhost:8080/"
        },
        "id": "xRrpnnIr0grz",
        "outputId": "b6bdc294-6069-4862-af2c-b3b7a1d82259"
      },
      "execution_count": 15,
      "outputs": [
        {
          "output_type": "stream",
          "name": "stdout",
          "text": [
            "True\n"
          ]
        }
      ]
    },
    {
      "cell_type": "markdown",
      "source": [
        "Esercizio 8\n",
        "Assegnare una stringa \"Ciao mondo\" ad una variabile \"stringa\" e utilizzare il metodo count() per contare il numero di volte in cui la lettera \"o\" appare nella stringa."
      ],
      "metadata": {
        "id": "vYLRuDCd0h5U"
      }
    },
    {
      "cell_type": "code",
      "source": [
        "stringa = \"Ciao mondo\"\n",
        "print(stringa.count(\"o\"))"
      ],
      "metadata": {
        "colab": {
          "base_uri": "https://localhost:8080/"
        },
        "id": "UN6vtXee0jmd",
        "outputId": "397b4d81-bacd-4597-8d6d-36174a9d9f06"
      },
      "execution_count": 16,
      "outputs": [
        {
          "output_type": "stream",
          "name": "stdout",
          "text": [
            "3\n"
          ]
        }
      ]
    },
    {
      "cell_type": "markdown",
      "source": [
        "Esercizio 9\n",
        "Assegnare una stringa \"Ciao mondo\" ad una variabile \"stringa\". Mandare quindi a schermo gli ultimi 5 caratteri della stringa in maiuscolo, sostituendo il carattere \"o\" con \"k\"."
      ],
      "metadata": {
        "id": "BHfoer2U1tkY"
      }
    },
    {
      "cell_type": "code",
      "source": [
        "stringa = \"Ciao mondo\"\n",
        "print(stringa.replace(\"o\",\"k\").upper()[5:10])"
      ],
      "metadata": {
        "colab": {
          "base_uri": "https://localhost:8080/"
        },
        "id": "OFpz861r1wfs",
        "outputId": "27cc2f5d-619f-48fd-f011-a555ea485116"
      },
      "execution_count": 23,
      "outputs": [
        {
          "output_type": "stream",
          "name": "stdout",
          "text": [
            "MKNDK\n"
          ]
        }
      ]
    },
    {
      "cell_type": "markdown",
      "source": [
        "Altro modo..."
      ],
      "metadata": {
        "id": "LokgMdQ02wRd"
      }
    },
    {
      "cell_type": "code",
      "source": [
        "stringa = \"Ciao mondo\"\n",
        "ultimi_cinque = stringa[-5:].upper().replace(\"O\", \"K\")\n",
        "print(ultimi_cinque)"
      ],
      "metadata": {
        "colab": {
          "base_uri": "https://localhost:8080/"
        },
        "id": "dUQ4dgV62zwQ",
        "outputId": "c0001426-f2a1-49f8-c21a-1956f9a2601a"
      },
      "execution_count": 24,
      "outputs": [
        {
          "output_type": "stream",
          "name": "stdout",
          "text": [
            "MKNDK\n"
          ]
        }
      ]
    }
  ]
}