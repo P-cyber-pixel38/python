{
  "nbformat": 4,
  "nbformat_minor": 0,
  "metadata": {
    "colab": {
      "provenance": [],
      "authorship_tag": "ABX9TyMhXKsE+AOHlIvH/nKq9cKb",
      "include_colab_link": true
    },
    "kernelspec": {
      "name": "python3",
      "display_name": "Python 3"
    },
    "language_info": {
      "name": "python"
    }
  },
  "cells": [
    {
      "cell_type": "markdown",
      "metadata": {
        "id": "view-in-github",
        "colab_type": "text"
      },
      "source": [
        "<a href=\"https://colab.research.google.com/github/P-cyber-pixel38/python/blob/main/Operazioni_matematiche.ipynb\" target=\"_parent\"><img src=\"https://colab.research.google.com/assets/colab-badge.svg\" alt=\"Open In Colab\"/></a>"
      ]
    },
    {
      "cell_type": "markdown",
      "source": [
        "Esercizio 1\n",
        "Dichiarare due variabili \"numero1\" e \"numero2\" e assegnargli due numeri interi. Eseguire l'addizione tra le due variabili e assegnare il risultato ad una nuova variabile \"somma\", mandandola a schermo"
      ],
      "metadata": {
        "id": "6wciwGwqFVqy"
      }
    },
    {
      "cell_type": "code",
      "execution_count": null,
      "metadata": {
        "colab": {
          "base_uri": "https://localhost:8080/"
        },
        "id": "3J2ZzLrmFVFg",
        "outputId": "d386855e-9618-48db-ef4b-60714beaad3a"
      },
      "outputs": [
        {
          "output_type": "stream",
          "name": "stdout",
          "text": [
            "16\n"
          ]
        }
      ],
      "source": [
        "numero1 = 9\n",
        "numero2 = 7\n",
        "somma = numero1 + numero2\n",
        "print(somma)"
      ]
    },
    {
      "cell_type": "markdown",
      "source": [
        "Altro modo..."
      ],
      "metadata": {
        "id": "0dvVhy8wF1-p"
      }
    },
    {
      "cell_type": "code",
      "source": [
        "def somma():\n",
        "  return numero1 + numero2\n",
        "print(somma())"
      ],
      "metadata": {
        "colab": {
          "base_uri": "https://localhost:8080/"
        },
        "id": "Dw1rH7WsF4MH",
        "outputId": "6c73c761-4cd1-4852-c2ba-b39e32686c98"
      },
      "execution_count": null,
      "outputs": [
        {
          "output_type": "stream",
          "name": "stdout",
          "text": [
            "16\n"
          ]
        }
      ]
    },
    {
      "cell_type": "markdown",
      "source": [
        "Altro modo..."
      ],
      "metadata": {
        "id": "io9CHMvMHOpK"
      }
    },
    {
      "cell_type": "code",
      "source": [
        "somma = 0\n",
        "for i in range(0, 2):\n",
        "  numero = int(input(\"inserisci un numero :\"))\n",
        "  somma = somma + numero\n",
        "\n",
        "print(\"somma : \", somma)"
      ],
      "metadata": {
        "colab": {
          "base_uri": "https://localhost:8080/"
        },
        "id": "8FxAJXkJHQz1",
        "outputId": "fe0b7251-8270-4fbd-a603-64ed4bc184ee"
      },
      "execution_count": null,
      "outputs": [
        {
          "output_type": "stream",
          "name": "stdout",
          "text": [
            "inserisci un numero :4\n",
            "inserisci un numero :6\n",
            "somma :  10\n"
          ]
        }
      ]
    },
    {
      "cell_type": "markdown",
      "source": [
        "Esercizio 2\n",
        "Eseguire la sottrazione tra le due variabili e assegnare il risultato ad una nuova variabile \"differenza\". Mandare a schermo."
      ],
      "metadata": {
        "id": "y10oG496IiNP"
      }
    },
    {
      "cell_type": "code",
      "source": [
        "differenza = numero1 - numero2\n",
        "print(differenza)"
      ],
      "metadata": {
        "colab": {
          "base_uri": "https://localhost:8080/"
        },
        "id": "Lu9XjpiGIkTY",
        "outputId": "3752fe50-5294-43d2-9547-3e29dfb1b389"
      },
      "execution_count": null,
      "outputs": [
        {
          "output_type": "stream",
          "name": "stdout",
          "text": [
            "2\n"
          ]
        }
      ]
    },
    {
      "cell_type": "markdown",
      "source": [
        "Esercizio 3\n",
        "Eseguire la moltiplicazione tra le due variabili e assegnare il risultato ad una nuova variabile \"prodotto\". Mandare a schermo."
      ],
      "metadata": {
        "id": "PDrEeQP7JkGe"
      }
    },
    {
      "cell_type": "code",
      "source": [
        "numero1 = float(input(\"Inserisci un numero : \")) #senza specificare l'input è una stringa\n",
        "numero2 = float(input(\"Inserisci un numero : \"))\n",
        "prodotto = numero1 * numero2\n",
        "print(\"Il prodotto della moltiplicazione : \", prodotto)"
      ],
      "metadata": {
        "id": "ff1upvX7KVPS",
        "colab": {
          "base_uri": "https://localhost:8080/"
        },
        "outputId": "0808554b-2418-4e32-ca30-334b261160a7"
      },
      "execution_count": 8,
      "outputs": [
        {
          "output_type": "stream",
          "name": "stdout",
          "text": [
            "Inserisci un numero : 9\n",
            "Inserisci un numero : 3\n",
            "Il prodotto della moltiplicazione :  27.0\n"
          ]
        }
      ]
    },
    {
      "cell_type": "markdown",
      "source": [
        "Altro modo..."
      ],
      "metadata": {
        "id": "ChobAfCJp03J"
      }
    },
    {
      "cell_type": "code",
      "source": [
        "for i in range(0,2):\n",
        "  numero = int(input(\"inserisci un numero :\"))\n",
        "  prodotto = numero * numero\n",
        "print(\"prodotto : \", prodotto)"
      ],
      "metadata": {
        "id": "79m_jsG6LAAB",
        "colab": {
          "base_uri": "https://localhost:8080/"
        },
        "outputId": "7b02dc6a-b917-403f-c11b-a3597ba06375"
      },
      "execution_count": 17,
      "outputs": [
        {
          "output_type": "stream",
          "name": "stdout",
          "text": [
            "inserisci un numero :5\n",
            "inserisci un numero :5\n",
            "prodotto :  25\n"
          ]
        }
      ]
    },
    {
      "cell_type": "markdown",
      "source": [
        "Esercizio 4\n",
        "Eseguire la divisione tra le due variabili e assegnare il risultato ad una nuova variabile \"quoziente\". Mandare a schermo."
      ],
      "metadata": {
        "id": "Z98Kia1nMmAq"
      }
    },
    {
      "cell_type": "code",
      "source": [
        "# Inizializzo la variabile divisione al primo numero inserito\n",
        "divisione = float(input(\"Inserisci un numero: \"))\n",
        "\n",
        "for i in range(1, 2):\n",
        "  numero = float(input(\"Inserisci un altro numero: \"))\n",
        "divisione = divisione / numero\n",
        "\n",
        "print(f\"Il risultato della divisione è: {divisione}\")"
      ],
      "metadata": {
        "colab": {
          "base_uri": "https://localhost:8080/"
        },
        "id": "JL4D-rAnMoy8",
        "outputId": "da245502-77e3-4cf1-dbcc-79f745ac2dc7"
      },
      "execution_count": 16,
      "outputs": [
        {
          "output_type": "stream",
          "name": "stdout",
          "text": [
            "Inserisci un numero: 6\n",
            "Inserisci un altro numero: 7\n",
            "Il risultato della divisione è: 0.8571428571428571\n"
          ]
        }
      ]
    },
    {
      "cell_type": "markdown",
      "source": [
        "Esercizio 5\n",
        "Eseguire l'operazione di modulo tra le due variabili e assegnare il risultato ad una nuova variabile \"resto\". Mandare a schermo."
      ],
      "metadata": {
        "id": "FSH-Sm94OAAN"
      }
    },
    {
      "cell_type": "code",
      "source": [
        "numero1 = float(input(\"Inserisci un numero: \"))\n",
        "numero2 = float(input(\"Inserisci un altro numero: \"))\n",
        "resto = numero1 % numero2\n",
        "print(\"Il resto della divisione è: \", resto)"
      ],
      "metadata": {
        "colab": {
          "base_uri": "https://localhost:8080/"
        },
        "id": "cS2d8HMQODEP",
        "outputId": "3c2c7025-83d7-4f26-a22c-2e067a005afd"
      },
      "execution_count": 20,
      "outputs": [
        {
          "output_type": "stream",
          "name": "stdout",
          "text": [
            "Inserisci un numero: 10\n",
            "Inserisci un altro numero: 5\n",
            "Il resto della divisione è:  0.0\n"
          ]
        }
      ]
    },
    {
      "cell_type": "markdown",
      "source": [
        "Esercizio 6\n",
        "Incrementare \"numero1\" di 1 e decrementare \"numero2\" di 3. Mandare a schermo i nuovi valori."
      ],
      "metadata": {
        "id": "oyMu0vXZOteO"
      }
    },
    {
      "cell_type": "code",
      "source": [
        "num1 = float(input(\"Inserisci un numero: \"))\n",
        "num2 = float(input(\"Inserisci un altro numero: \"))\n",
        "def pluseminus():\n",
        "  num3 = num1 + float(input(\"Inserisci un numero: \"))\n",
        "  num4 = num2 - float(input(\"Inserisci un altro numero: \"))\n",
        "  return num3, num4\n",
        "print(pluseminus())"
      ],
      "metadata": {
        "colab": {
          "base_uri": "https://localhost:8080/"
        },
        "id": "8UpHG0bpOxFQ",
        "outputId": "41f26283-7f2f-4c8b-df4a-478bab23c16e"
      },
      "execution_count": 27,
      "outputs": [
        {
          "output_type": "stream",
          "name": "stdout",
          "text": [
            "Inserisci un numero: 4.5\n",
            "Inserisci un altro numero: 0.6\n",
            "Inserisci un numero: 3\n",
            "Inserisci un altro numero: 4\n",
            "(7.5, -3.4)\n"
          ]
        }
      ]
    },
    {
      "cell_type": "markdown",
      "source": [
        "Esercizio 7\n",
        "Moltiplicare \"numero1\" per se stesso + 5, sommarlo quindi a \"numero2\" elevato alla seconda. Assegnare l'operazione alla variabile risultato e mandare a schermo."
      ],
      "metadata": {
        "id": "4lhOSlRpSi2b"
      }
    },
    {
      "cell_type": "code",
      "source": [
        "numero1 = 5\n",
        "numero2 = 15\n",
        "somma = (numero1 * (numero1 + 5) + (numero2 ** 2))\n",
        "print (somma)"
      ],
      "metadata": {
        "colab": {
          "base_uri": "https://localhost:8080/"
        },
        "id": "fkNZPaJGSlVI",
        "outputId": "0f09db51-ac8a-42ad-d60a-072bbddadfff"
      },
      "execution_count": 2,
      "outputs": [
        {
          "output_type": "stream",
          "name": "stdout",
          "text": [
            "275\n"
          ]
        }
      ]
    },
    {
      "cell_type": "markdown",
      "source": [
        "Esercizio 8\n",
        "Trovare quella operazione per portare \"numero1\" a valere 1 senza riassegnarlo direttamente ad 1 e sottraendolo a se stesso."
      ],
      "metadata": {
        "id": "cXmLGnDUlsDP"
      }
    },
    {
      "cell_type": "code",
      "source": [
        "numero = 10\n",
        "numero = numero - (numero - 1)\n",
        "print (numero)"
      ],
      "metadata": {
        "colab": {
          "base_uri": "https://localhost:8080/"
        },
        "id": "bEClyB49lwjV",
        "outputId": "6754c35c-cd55-4c98-fca0-6e469ef6d1fc"
      },
      "execution_count": 1,
      "outputs": [
        {
          "output_type": "stream",
          "name": "stdout",
          "text": [
            "1\n"
          ]
        }
      ]
    }
  ]
}