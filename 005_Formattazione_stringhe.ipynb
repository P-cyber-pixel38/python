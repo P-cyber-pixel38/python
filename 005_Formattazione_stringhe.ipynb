{
  "nbformat": 4,
  "nbformat_minor": 0,
  "metadata": {
    "colab": {
      "provenance": [],
      "authorship_tag": "ABX9TyMEPI8AfjuleGoa4P4dcNI3",
      "include_colab_link": true
    },
    "kernelspec": {
      "name": "python3",
      "display_name": "Python 3"
    },
    "language_info": {
      "name": "python"
    }
  },
  "cells": [
    {
      "cell_type": "markdown",
      "metadata": {
        "id": "view-in-github",
        "colab_type": "text"
      },
      "source": [
        "<a href=\"https://colab.research.google.com/github/P-cyber-pixel38/python/blob/main/005_Formattazione_stringhe.ipynb\" target=\"_parent\"><img src=\"https://colab.research.google.com/assets/colab-badge.svg\" alt=\"Open In Colab\"/></a>"
      ]
    },
    {
      "cell_type": "markdown",
      "source": [
        "Esercizio 1\n",
        "Creare due variabili \"nome\" e \"cognome\" e concatenarle a schermo."
      ],
      "metadata": {
        "id": "JKBkj5WK39qQ"
      }
    },
    {
      "cell_type": "code",
      "execution_count": 2,
      "metadata": {
        "colab": {
          "base_uri": "https://localhost:8080/"
        },
        "id": "K7tOEwjI377j",
        "outputId": "a54e4ec3-202d-4fff-cde1-1cf2cb28451d"
      },
      "outputs": [
        {
          "output_type": "stream",
          "name": "stdout",
          "text": [
            "carlo magno\n"
          ]
        }
      ],
      "source": [
        "nome = \"carlo\"\n",
        "cognome = \"magno\"\n",
        "print(nome + \" \" + cognome)"
      ]
    },
    {
      "cell_type": "markdown",
      "source": [
        "Esercizio 2\n",
        "Utilizzare la formattazione delle stringhe per ottenere \"Il numero è: 42\"."
      ],
      "metadata": {
        "id": "PYh2YYBr407b"
      }
    },
    {
      "cell_type": "code",
      "source": [
        "stringa = \"Il numero è: {}\"\n",
        "print(stringa.format(42))"
      ],
      "metadata": {
        "colab": {
          "base_uri": "https://localhost:8080/"
        },
        "id": "d8RGuAmR43eY",
        "outputId": "c8342894-ae00-4f89-d718-eded0bbc7bf8"
      },
      "execution_count": 3,
      "outputs": [
        {
          "output_type": "stream",
          "name": "stdout",
          "text": [
            "Il numero è: 42\n"
          ]
        }
      ]
    },
    {
      "cell_type": "markdown",
      "source": [
        "Altro modo..."
      ],
      "metadata": {
        "id": "XTPoeYOV5fsF"
      }
    },
    {
      "cell_type": "code",
      "source": [
        "numero = 42\n",
        "stringa = \"Il numero è: {}\".format(numero)\n",
        "print(stringa)"
      ],
      "metadata": {
        "colab": {
          "base_uri": "https://localhost:8080/"
        },
        "id": "E4ZwHcW-5Riu",
        "outputId": "b389ea92-c0a5-46fb-d28e-639ef7d0bbfd"
      },
      "execution_count": 4,
      "outputs": [
        {
          "output_type": "stream",
          "name": "stdout",
          "text": [
            "Il numero è: 42\n"
          ]
        }
      ]
    },
    {
      "cell_type": "markdown",
      "source": [
        "Altro modo..."
      ],
      "metadata": {
        "id": "XMABx3Qs5g33"
      }
    },
    {
      "cell_type": "code",
      "source": [
        "numero = 42\n",
        "stringa = f\"Il numero è: {numero}\"\n",
        "print(stringa)"
      ],
      "metadata": {
        "colab": {
          "base_uri": "https://localhost:8080/"
        },
        "id": "_9Gv5KWU5iOF",
        "outputId": "8467234b-9969-4ca4-ecc2-2d90b78b8366"
      },
      "execution_count": 6,
      "outputs": [
        {
          "output_type": "stream",
          "name": "stdout",
          "text": [
            "Il numero è: 42\n"
          ]
        }
      ]
    },
    {
      "cell_type": "markdown",
      "source": [
        "Altro modo..."
      ],
      "metadata": {
        "id": "DyYAHSR35yV_"
      }
    },
    {
      "cell_type": "code",
      "source": [
        "numero = 42\n",
        "print(f\"Il numero è: {numero}\")"
      ],
      "metadata": {
        "colab": {
          "base_uri": "https://localhost:8080/"
        },
        "id": "IMapNcEX5zkJ",
        "outputId": "caa6d2e4-aa6f-4170-f32d-2efe34fc4ebd"
      },
      "execution_count": 5,
      "outputs": [
        {
          "output_type": "stream",
          "name": "stdout",
          "text": [
            "Il numero è: 42\n"
          ]
        }
      ]
    },
    {
      "cell_type": "markdown",
      "source": [
        "Esercizio 3\n",
        "Utilizzare la formattazione delle stringhe per ottenere \"Il numero binario di 42 è 0b101010\". Per il binario utilizzare bin(numero)"
      ],
      "metadata": {
        "id": "U5x0rlLu5-du"
      }
    },
    {
      "cell_type": "code",
      "source": [
        "numero = 42\n",
        "stringa = f\"Il numero binario di {numero} è {bin(numero)}\"\n",
        "print(stringa)"
      ],
      "metadata": {
        "colab": {
          "base_uri": "https://localhost:8080/"
        },
        "id": "UIur4H6K6A17",
        "outputId": "d9a57769-7dd1-432a-d56c-4b39d8600854"
      },
      "execution_count": 7,
      "outputs": [
        {
          "output_type": "stream",
          "name": "stdout",
          "text": [
            "Il numero binario di 42 è 0b101010\n"
          ]
        }
      ]
    },
    {
      "cell_type": "markdown",
      "source": [
        "Esercizio 4\n",
        "Partendo dalla variabile \"numero\" uguale a 5, utilizzare le f-strings (interpolazione) per ottenere \"Il quadrato di 5 è 25\""
      ],
      "metadata": {
        "id": "pZMhzZg_67WA"
      }
    },
    {
      "cell_type": "code",
      "source": [
        "numero = 5\n",
        "stringa = f\"Il quadrato di {numero} è {numero**2}\"\n",
        "print(stringa)"
      ],
      "metadata": {
        "colab": {
          "base_uri": "https://localhost:8080/"
        },
        "id": "n0jGdfOa69Mj",
        "outputId": "8cd3ac2b-7ca8-4971-bcdd-8ef96000ad5c"
      },
      "execution_count": 12,
      "outputs": [
        {
          "output_type": "stream",
          "name": "stdout",
          "text": [
            "Il quadrato di 5 è 25\n"
          ]
        }
      ]
    },
    {
      "cell_type": "markdown",
      "source": [
        "Altro modo..."
      ],
      "metadata": {
        "id": "auP7PZkL7s_3"
      }
    },
    {
      "cell_type": "code",
      "source": [
        "import math\n",
        "numero = 5\n",
        "print(f\"Il quadrato di {numero} è {math.pow(numero,2)}\")"
      ],
      "metadata": {
        "colab": {
          "base_uri": "https://localhost:8080/"
        },
        "id": "vCIuwNDz7uIv",
        "outputId": "7719e8c0-8960-41f8-f3f5-25009a4f8c71"
      },
      "execution_count": 13,
      "outputs": [
        {
          "output_type": "stream",
          "name": "stdout",
          "text": [
            "Il quadrato di 5 è 25.0\n"
          ]
        }
      ]
    },
    {
      "cell_type": "markdown",
      "source": [
        "Altro modo..."
      ],
      "metadata": {
        "id": "FXeAW2JP8Al9"
      }
    },
    {
      "cell_type": "code",
      "source": [
        "import numpy as np\n",
        "num = 5\n",
        "print(f\"Il quadrato di {num} è {np.square(num)}\")"
      ],
      "metadata": {
        "colab": {
          "base_uri": "https://localhost:8080/"
        },
        "id": "Bqh-E3v18CHQ",
        "outputId": "3c757e89-5b3f-40d1-b7f3-6a1186e2ef5a"
      },
      "execution_count": 14,
      "outputs": [
        {
          "output_type": "stream",
          "name": "stdout",
          "text": [
            "Il quadrato di 5 è 25\n"
          ]
        }
      ]
    },
    {
      "cell_type": "markdown",
      "source": [
        "Esercizio 5\n",
        "Partendo da \"nome\" e \"cognome\" utilizzare la formattazione strighe per ottenere \"Il mio nome è {nome} ed il cognome è {cognome}\". Come da esempio dovete fare riferimento al nome delle variabili e non alla posizione usata dentro format."
      ],
      "metadata": {
        "id": "aomwGDJ_8lpS"
      }
    },
    {
      "cell_type": "code",
      "source": [
        "nome = \"carlo\"\n",
        "cognome = \"magno\"\n",
        "print(f\"Il mio nome è {nome} ed il cognome è {cognome}\")"
      ],
      "metadata": {
        "colab": {
          "base_uri": "https://localhost:8080/"
        },
        "id": "Iq7PihM086Dq",
        "outputId": "1f13d3f4-77d4-43ca-996a-c14c3480086d"
      },
      "execution_count": 16,
      "outputs": [
        {
          "output_type": "stream",
          "name": "stdout",
          "text": [
            "Il mio nome è carlo ed il cognome è magno\n"
          ]
        }
      ]
    },
    {
      "cell_type": "markdown",
      "source": [
        "Esercizio 6\n",
        "Facendo riferimento all'esercizio precedente ottenere il seguente risultato modificando i valori nel format(): \"Il mio nome è LUCA ed il cognome è RoKKi\""
      ],
      "metadata": {
        "id": "0HH3InV29Vjt"
      }
    },
    {
      "cell_type": "code",
      "source": [
        "print(f\"Il mio nome è {nome.replace('carlo', 'LUCA')} ed il cognome è {cognome.replace('magno', 'RoKKi')}\")"
      ],
      "metadata": {
        "colab": {
          "base_uri": "https://localhost:8080/"
        },
        "id": "AwkAVeYv9Y9r",
        "outputId": "1fdaed6a-2744-4942-8aea-d243d0a0db5c"
      },
      "execution_count": 20,
      "outputs": [
        {
          "output_type": "stream",
          "name": "stdout",
          "text": [
            "Il mio nome è LUCA ed il cognome è RoKKi\n"
          ]
        }
      ]
    }
  ]
}