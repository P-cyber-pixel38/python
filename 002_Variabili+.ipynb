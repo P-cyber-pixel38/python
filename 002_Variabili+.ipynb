{
  "nbformat": 4,
  "nbformat_minor": 0,
  "metadata": {
    "colab": {
      "provenance": [],
      "authorship_tag": "ABX9TyPy2WgEliqGh07msyMp7H6J",
      "include_colab_link": true
    },
    "kernelspec": {
      "name": "python3",
      "display_name": "Python 3"
    },
    "language_info": {
      "name": "python"
    }
  },
  "cells": [
    {
      "cell_type": "markdown",
      "metadata": {
        "id": "view-in-github",
        "colab_type": "text"
      },
      "source": [
        "<a href=\"https://colab.research.google.com/github/P-cyber-pixel38/python/blob/main/002_Variabili%2B.ipynb\" target=\"_parent\"><img src=\"https://colab.research.google.com/assets/colab-badge.svg\" alt=\"Open In Colab\"/></a>"
      ]
    },
    {
      "cell_type": "markdown",
      "source": [
        "Esercizio 1\n",
        "Dichiarare una variabile \"numero_intero\" e assegnargli un valore intero. Mandare a schermo il tipo della variabile per conferma."
      ],
      "metadata": {
        "id": "d0uXFBkz5izB"
      }
    },
    {
      "cell_type": "code",
      "execution_count": 1,
      "metadata": {
        "colab": {
          "base_uri": "https://localhost:8080/"
        },
        "id": "M66M7pc75f3I",
        "outputId": "e191dc01-1bf5-407a-e649-c8dac02de67b"
      },
      "outputs": [
        {
          "output_type": "stream",
          "name": "stdout",
          "text": [
            "<class 'int'>\n"
          ]
        }
      ],
      "source": [
        "numero_intero = 10\n",
        "print(type(numero_intero))"
      ]
    },
    {
      "cell_type": "markdown",
      "source": [
        "Esercizio 2\n",
        "Dichiarare una variabile \"numero_decimale\" e assegnargli un valore float. Mandare a schermo il tipo della variabile per conferma."
      ],
      "metadata": {
        "id": "NUJejZqN5lZi"
      }
    },
    {
      "cell_type": "code",
      "source": [
        "numero_decimale = 1.56\n",
        "print(type(numero_decimale))"
      ],
      "metadata": {
        "colab": {
          "base_uri": "https://localhost:8080/"
        },
        "id": "iFfWGxJ96ae1",
        "outputId": "de9fb3be-ec5c-496f-bcbb-36fd1d04e7ca"
      },
      "execution_count": 2,
      "outputs": [
        {
          "output_type": "stream",
          "name": "stdout",
          "text": [
            "<class 'float'>\n"
          ]
        }
      ]
    },
    {
      "cell_type": "markdown",
      "source": [
        "Esercizio 3\n",
        "Creare una variabile \"testo\" e assegnargli una stringa contenente una frase. Mandare a schermo il tipo della variabile per conferma."
      ],
      "metadata": {
        "id": "gY0bQsd25rzS"
      }
    },
    {
      "cell_type": "code",
      "source": [
        "testo = \"the cat is on the table\"\n",
        "print(type(testo))"
      ],
      "metadata": {
        "colab": {
          "base_uri": "https://localhost:8080/"
        },
        "id": "5Kb_Zmjp7aWr",
        "outputId": "4fddcf74-4f85-4a96-dcd7-3d3209b962c7"
      },
      "execution_count": 3,
      "outputs": [
        {
          "output_type": "stream",
          "name": "stdout",
          "text": [
            "<class 'str'>\n"
          ]
        }
      ]
    },
    {
      "cell_type": "markdown",
      "source": [
        "Esercizio 4\n",
        "Creare una variabile \"valore_booleano\" e assegnargli un valore booleano. Mandare a schermo il tipo della variabile per conferma."
      ],
      "metadata": {
        "id": "2cEO2iAi5u8G"
      }
    },
    {
      "cell_type": "code",
      "source": [
        "valore_booleano = True\n",
        "print(type(valore_booleano))"
      ],
      "metadata": {
        "colab": {
          "base_uri": "https://localhost:8080/"
        },
        "id": "wezyS4jj7w-Q",
        "outputId": "5573c843-f4fd-4216-ee28-7a8f213e84ec"
      },
      "execution_count": 6,
      "outputs": [
        {
          "output_type": "stream",
          "name": "stdout",
          "text": [
            "<class 'bool'>\n"
          ]
        }
      ]
    },
    {
      "cell_type": "markdown",
      "source": [
        "Esercizio 5\n",
        "Creare una lista \"numeri\" contenente 5 numeri interi. Mandare a schermo il tipo della variabile per conferma."
      ],
      "metadata": {
        "id": "Sa66xSBi5xcB"
      }
    },
    {
      "cell_type": "code",
      "source": [
        "numeri = [1,56,8,3,90]\n",
        "print(type(numeri))"
      ],
      "metadata": {
        "colab": {
          "base_uri": "https://localhost:8080/"
        },
        "id": "dV_6u4rf8pTh",
        "outputId": "069f38d1-68ab-4ba9-f346-2de3aaa5ca20"
      },
      "execution_count": 7,
      "outputs": [
        {
          "output_type": "stream",
          "name": "stdout",
          "text": [
            "<class 'list'>\n"
          ]
        }
      ]
    },
    {
      "cell_type": "markdown",
      "source": [
        "Esercizio 6\n",
        "Creare una lista \"misti\" contenente un numero intero, un numero float, una stringa e un valore booleano. Mandare a schermo il tipo della variabile per conferma."
      ],
      "metadata": {
        "id": "A2h8socw5zpe"
      }
    },
    {
      "cell_type": "code",
      "source": [
        "misti = [1, 1.56, \"ciao\", True]\n",
        "print(type(misti))"
      ],
      "metadata": {
        "colab": {
          "base_uri": "https://localhost:8080/"
        },
        "id": "n2seqhD79TiA",
        "outputId": "2c402bbd-1cf8-4266-be22-28f575232347"
      },
      "execution_count": 8,
      "outputs": [
        {
          "output_type": "stream",
          "name": "stdout",
          "text": [
            "<class 'list'>\n"
          ]
        }
      ]
    },
    {
      "cell_type": "markdown",
      "source": [
        "Esercizio 7\n",
        "Creare una tupla \"giorni_settimana\" contenente i giorni della settimana come stringhe. Mandare a schermo il tipo della variabile per conferma."
      ],
      "metadata": {
        "id": "Oy4jIqGR51av"
      }
    },
    {
      "cell_type": "code",
      "source": [
        "giorni_settimana = (\"lunedì\", \"martedì\", \"mercoledì\", \"giovedì\", \"venerdì\", \"sabato\", \"domenica\")\n",
        "print(type(giorni_settimana))"
      ],
      "metadata": {
        "colab": {
          "base_uri": "https://localhost:8080/"
        },
        "id": "FjkEgOJm9kx0",
        "outputId": "6086566b-58aa-4779-9ccb-26092ff184d8"
      },
      "execution_count": 9,
      "outputs": [
        {
          "output_type": "stream",
          "name": "stdout",
          "text": [
            "<class 'tuple'>\n"
          ]
        }
      ]
    },
    {
      "cell_type": "markdown",
      "source": [
        "Esercizio 8\n",
        "Creare un dizionario \"informazioni_personali\" contenente il tuo nome, cognome, età e città di residenza. Mandare a schermo il tipo della variabile per conferma."
      ],
      "metadata": {
        "id": "N7bDdzOz53ss"
      }
    },
    {
      "cell_type": "code",
      "source": [
        "informazioni_personali = {'nome':'Mario', 'cognome':'Rossi', 'età':50, 'città':'Londra'}\n",
        "print(type(informazioni_personali))"
      ],
      "metadata": {
        "colab": {
          "base_uri": "https://localhost:8080/"
        },
        "id": "NZYqRQsh98nj",
        "outputId": "d338b1a4-a18e-43f3-b990-a21bc5111583"
      },
      "execution_count": 11,
      "outputs": [
        {
          "output_type": "stream",
          "name": "stdout",
          "text": [
            "<class 'dict'>\n"
          ]
        }
      ]
    }
  ]
}