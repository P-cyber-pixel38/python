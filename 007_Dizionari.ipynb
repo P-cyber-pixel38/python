{
  "nbformat": 4,
  "nbformat_minor": 0,
  "metadata": {
    "colab": {
      "provenance": [],
      "authorship_tag": "ABX9TyOgowAFXehNC3KD6XMIMbEJ",
      "include_colab_link": true
    },
    "kernelspec": {
      "name": "python3",
      "display_name": "Python 3"
    },
    "language_info": {
      "name": "python"
    }
  },
  "cells": [
    {
      "cell_type": "markdown",
      "metadata": {
        "id": "view-in-github",
        "colab_type": "text"
      },
      "source": [
        "<a href=\"https://colab.research.google.com/github/P-cyber-pixel38/python/blob/main/007_Dizionari.ipynb\" target=\"_parent\"><img src=\"https://colab.research.google.com/assets/colab-badge.svg\" alt=\"Open In Colab\"/></a>"
      ]
    },
    {
      "cell_type": "markdown",
      "source": [
        "Esercizio 1\n",
        "Creare un dizionario vuoto e assegnarlo a una variabile."
      ],
      "metadata": {
        "id": "uWEXoNwjMqS6"
      }
    },
    {
      "cell_type": "code",
      "execution_count": 21,
      "metadata": {
        "colab": {
          "base_uri": "https://localhost:8080/"
        },
        "id": "D1C2iIrHMcZV",
        "outputId": "9054ce02-31c3-474b-c993-ba5a8e90c81b"
      },
      "outputs": [
        {
          "output_type": "stream",
          "name": "stdout",
          "text": [
            "{}\n"
          ]
        }
      ],
      "source": [
        "diz = {}\n",
        "print(diz)"
      ]
    },
    {
      "cell_type": "markdown",
      "source": [
        "Esercizio 2\n",
        "Creare un dizionario con le seguenti chiavi e valori: \"nome\" : \"Mario\", \"cognome\" : \"Rossi\", \"età\" : 30."
      ],
      "metadata": {
        "id": "OrtF-1soM3P7"
      }
    },
    {
      "cell_type": "code",
      "source": [
        "diz = {'nome':'Mario', 'cognome':'Rossi', 'età':30}\n",
        "print(diz)"
      ],
      "metadata": {
        "colab": {
          "base_uri": "https://localhost:8080/"
        },
        "id": "Fh4F1UCUM4sX",
        "outputId": "1759271a-4484-42aa-c9d4-b41e2bdfe188"
      },
      "execution_count": 22,
      "outputs": [
        {
          "output_type": "stream",
          "name": "stdout",
          "text": [
            "{'nome': 'Mario', 'cognome': 'Rossi', 'età': 30}\n"
          ]
        }
      ]
    },
    {
      "cell_type": "markdown",
      "source": [
        "Esercizio 3\n",
        "Accedere al valore dell'elemento con chiave \"età\" del dizionario precedente."
      ],
      "metadata": {
        "id": "FAWKYxqtN63l"
      }
    },
    {
      "cell_type": "code",
      "source": [
        "print(diz['età'])"
      ],
      "metadata": {
        "colab": {
          "base_uri": "https://localhost:8080/"
        },
        "id": "xMxDqSvAN7gY",
        "outputId": "eb9acc47-90b5-4ccc-fed2-cd4e4c279a45"
      },
      "execution_count": 23,
      "outputs": [
        {
          "output_type": "stream",
          "name": "stdout",
          "text": [
            "30\n"
          ]
        }
      ]
    },
    {
      "cell_type": "markdown",
      "source": [
        "Esercizio 4 Aggiungere un nuovo elemento \"email\" con valore \"mario.rossi@email.com\" al dizionario precedente."
      ],
      "metadata": {
        "id": "stnjPyFiOR0N"
      }
    },
    {
      "cell_type": "code",
      "source": [
        "diz[\"email\"] = \"mario.rossi@email.com\"\n",
        "print(diz)"
      ],
      "metadata": {
        "colab": {
          "base_uri": "https://localhost:8080/"
        },
        "id": "1zbBzER9OTmY",
        "outputId": "38156eb5-f6d0-4046-b331-228fe38e8505"
      },
      "execution_count": 24,
      "outputs": [
        {
          "output_type": "stream",
          "name": "stdout",
          "text": [
            "{'nome': 'Mario', 'cognome': 'Rossi', 'età': 30, 'email': 'mario.rossi@email.com'}\n"
          ]
        }
      ]
    },
    {
      "cell_type": "markdown",
      "source": [
        "Esercizio 5\n",
        "Rimuovere l'elemento con chiave \"cognome\" dal dizionario precedente."
      ],
      "metadata": {
        "id": "HPS4VA0SOyz1"
      }
    },
    {
      "cell_type": "code",
      "source": [
        "del diz[\"cognome\"]\n",
        "print(diz)"
      ],
      "metadata": {
        "colab": {
          "base_uri": "https://localhost:8080/"
        },
        "id": "eU8SzRhMO1ag",
        "outputId": "61994d49-7b51-46cc-ebd3-710f27faa3f6"
      },
      "execution_count": 25,
      "outputs": [
        {
          "output_type": "stream",
          "name": "stdout",
          "text": [
            "{'nome': 'Mario', 'età': 30, 'email': 'mario.rossi@email.com'}\n"
          ]
        }
      ]
    },
    {
      "cell_type": "markdown",
      "source": [
        "Esercizio 6\n",
        "Creare una nuova lista che contenga solo le chiavi del dizionario precedente."
      ],
      "metadata": {
        "id": "CiOHIE7kO9cw"
      }
    },
    {
      "cell_type": "code",
      "source": [
        "key_list = list(diz)\n",
        "print(key_list)"
      ],
      "metadata": {
        "colab": {
          "base_uri": "https://localhost:8080/"
        },
        "id": "EJi0omq_O-EC",
        "outputId": "ccce1123-169d-42f4-ba3e-696a9c9ba1ee"
      },
      "execution_count": 26,
      "outputs": [
        {
          "output_type": "stream",
          "name": "stdout",
          "text": [
            "['nome', 'età', 'email']\n"
          ]
        }
      ]
    },
    {
      "cell_type": "markdown",
      "source": [
        "Altro modo..."
      ],
      "metadata": {
        "id": "a2d4HctdPf29"
      }
    },
    {
      "cell_type": "code",
      "source": [
        "lista_chiavi = list(diz.keys())\n",
        "print(lista_chiavi)"
      ],
      "metadata": {
        "colab": {
          "base_uri": "https://localhost:8080/"
        },
        "id": "lbuyNzBNPhAC",
        "outputId": "0e756286-1ead-4eac-8b82-2e744115e908"
      },
      "execution_count": 27,
      "outputs": [
        {
          "output_type": "stream",
          "name": "stdout",
          "text": [
            "['nome', 'età', 'email']\n"
          ]
        }
      ]
    },
    {
      "cell_type": "markdown",
      "source": [
        "Esercizio 7\n",
        "Creare una nuova lista che contenga solo i valori del dizionario precedente"
      ],
      "metadata": {
        "id": "TY4FTVkmPjqe"
      }
    },
    {
      "cell_type": "code",
      "source": [
        "values_list = list(diz.values())\n",
        "print(values_list)"
      ],
      "metadata": {
        "colab": {
          "base_uri": "https://localhost:8080/"
        },
        "id": "fbl6PeZPPlDo",
        "outputId": "7bdff072-7b0e-4081-cc15-79002c9185a1"
      },
      "execution_count": 28,
      "outputs": [
        {
          "output_type": "stream",
          "name": "stdout",
          "text": [
            "['Mario', 30, 'mario.rossi@email.com']\n"
          ]
        }
      ]
    },
    {
      "cell_type": "markdown",
      "source": [
        "Altro modo..."
      ],
      "metadata": {
        "id": "k7_fw2S3P0WM"
      }
    },
    {
      "cell_type": "code",
      "source": [
        "valori = list(diz.values())\n",
        "print(valori)"
      ],
      "metadata": {
        "colab": {
          "base_uri": "https://localhost:8080/"
        },
        "id": "OZ4T_UbJP1Yu",
        "outputId": "98ac3c68-993a-4cf8-8816-1c04fbd7de27"
      },
      "execution_count": 29,
      "outputs": [
        {
          "output_type": "stream",
          "name": "stdout",
          "text": [
            "['Mario', 30, 'mario.rossi@email.com']\n"
          ]
        }
      ]
    },
    {
      "cell_type": "markdown",
      "source": [
        "Esercizio 8\n",
        "Aggiornare il valore dell'elemento con chiave \"età\" del dizionario precedente a 35."
      ],
      "metadata": {
        "id": "5cICfs1HQAHS"
      }
    },
    {
      "cell_type": "code",
      "source": [
        "diz['età'] = 35\n",
        "print(diz)"
      ],
      "metadata": {
        "colab": {
          "base_uri": "https://localhost:8080/"
        },
        "id": "hruKDWxXQDC0",
        "outputId": "68cfd0f1-46d1-4931-f94e-b4ad50431a71"
      },
      "execution_count": 30,
      "outputs": [
        {
          "output_type": "stream",
          "name": "stdout",
          "text": [
            "{'nome': 'Mario', 'età': 35, 'email': 'mario.rossi@email.com'}\n"
          ]
        }
      ]
    },
    {
      "cell_type": "markdown",
      "source": [
        "Esercizio 9\n",
        "Contare il numero di elementi nel dizionario precedente."
      ],
      "metadata": {
        "id": "5aWt2ZCNQQ3I"
      }
    },
    {
      "cell_type": "code",
      "source": [
        "numero_elementi = len(diz)\n",
        "print(numero_elementi)"
      ],
      "metadata": {
        "colab": {
          "base_uri": "https://localhost:8080/"
        },
        "id": "_hKbvKLsQcC1",
        "outputId": "08184541-398f-4797-cb00-e47489838f4d"
      },
      "execution_count": 32,
      "outputs": [
        {
          "output_type": "stream",
          "name": "stdout",
          "text": [
            "3\n"
          ]
        }
      ]
    },
    {
      "cell_type": "markdown",
      "source": [
        "Altro modo..."
      ],
      "metadata": {
        "id": "ZhAINb3GQkXD"
      }
    },
    {
      "cell_type": "code",
      "source": [
        "print(numero_elementi)"
      ],
      "metadata": {
        "colab": {
          "base_uri": "https://localhost:8080/"
        },
        "id": "ws_n8OLgQmB2",
        "outputId": "3cfabbff-5217-4336-b269-f7bcecd1d665"
      },
      "execution_count": 33,
      "outputs": [
        {
          "output_type": "stream",
          "name": "stdout",
          "text": [
            "3\n"
          ]
        }
      ]
    }
  ]
}